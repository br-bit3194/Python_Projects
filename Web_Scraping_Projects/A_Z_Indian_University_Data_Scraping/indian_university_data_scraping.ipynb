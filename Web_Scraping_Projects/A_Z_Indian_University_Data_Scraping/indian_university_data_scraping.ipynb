{
 "cells": [
  {
   "cell_type": "code",
   "execution_count": 1,
   "metadata": {},
   "outputs": [],
   "source": [
    "from selenium import webdriver\n",
    "import pandas as pd\n",
    "import time"
   ]
  },
  {
   "cell_type": "code",
   "execution_count": 4,
   "metadata": {},
   "outputs": [],
   "source": [
    "driver=webdriver.Chrome('C:\\chromedriver')\n",
    "driver.get(\"https://www.4icu.org/reviews/index2.htm\")"
   ]
  },
  {
   "cell_type": "code",
   "execution_count": 17,
   "metadata": {},
   "outputs": [],
   "source": [
    "indias_clg_list=[]\n",
    "links_list=[]\n",
    "country_rank_list=[]\n",
    "world_rank_list=[]\n",
    "\n",
    "for i in range(2,34):\n",
    "    \n",
    "    driver.get(\"https://www.4icu.org/reviews/index\"+str(i)+\".htm\")\n",
    "    time.sleep(1.5)\n",
    "    table=driver.find_elements_by_xpath(\"//table[@class='table table-hover text-left']/tbody/tr\")\n",
    "    \n",
    "    for j in table:\n",
    "        country=j.find_elements_by_tag_name(\"td\")\n",
    "        \n",
    "        if(country[1].text=='in'):\n",
    "            indias_clg_list.append(country[0].text)\n",
    "            time.sleep(1)\n",
    "            link=country[0].find_element_by_tag_name(\"a\").get_attribute(\"href\")\n",
    "            links_list.append(link)"
   ]
  },
  {
   "cell_type": "code",
   "execution_count": 19,
   "metadata": {},
   "outputs": [
    {
     "data": {
      "text/plain": [
       "['https://www.4icu.org/reviews/17817.htm',\n",
       " 'https://www.4icu.org/reviews/1978.htm',\n",
       " 'https://www.4icu.org/reviews/2077.htm',\n",
       " 'https://www.4icu.org/reviews/17885.htm',\n",
       " 'https://www.4icu.org/reviews/17856.htm']"
      ]
     },
     "execution_count": 19,
     "metadata": {},
     "output_type": "execute_result"
    }
   ],
   "source": [
    "links_list[:5]"
   ]
  },
  {
   "cell_type": "code",
   "execution_count": 20,
   "metadata": {},
   "outputs": [],
   "source": [
    "for link in links_list:\n",
    "    \n",
    "    driver.get(link)\n",
    "    time.sleep(1)\n",
    "    \n",
    "    rows=driver.find_elements_by_xpath(\"//table[@class='text-right']/tbody/tr\")\n",
    "    \n",
    "    columns=rows[0].find_elements_by_tag_name(\"td\")  #getting country rank\n",
    "    country_rank_list.append(columns[1].text)\n",
    "\n",
    "    columns=rows[1].find_elements_by_tag_name(\"td\")  #getting world rank\n",
    "    world_rank_list.append(columns[1].text)\n"
   ]
  },
  {
   "cell_type": "code",
   "execution_count": 22,
   "metadata": {},
   "outputs": [
    {
     "data": {
      "text/html": [
       "<div>\n",
       "<style scoped>\n",
       "    .dataframe tbody tr th:only-of-type {\n",
       "        vertical-align: middle;\n",
       "    }\n",
       "\n",
       "    .dataframe tbody tr th {\n",
       "        vertical-align: top;\n",
       "    }\n",
       "\n",
       "    .dataframe thead th {\n",
       "        text-align: right;\n",
       "    }\n",
       "</style>\n",
       "<table border=\"1\" class=\"dataframe\">\n",
       "  <thead>\n",
       "    <tr style=\"text-align: right;\">\n",
       "      <th></th>\n",
       "      <th>University_Name</th>\n",
       "      <th>Country_Rank</th>\n",
       "      <th>World_Rank</th>\n",
       "    </tr>\n",
       "  </thead>\n",
       "  <tbody>\n",
       "    <tr>\n",
       "      <th>0</th>\n",
       "      <td>Abhilashi University</td>\n",
       "      <td>841</td>\n",
       "      <td>11988</td>\n",
       "    </tr>\n",
       "    <tr>\n",
       "      <th>1</th>\n",
       "      <td>Acharya N.G. Ranga Agricultural University</td>\n",
       "      <td>262</td>\n",
       "      <td>7128</td>\n",
       "    </tr>\n",
       "    <tr>\n",
       "      <th>2</th>\n",
       "      <td>Acharya Nagarjuna University</td>\n",
       "      <td>212</td>\n",
       "      <td>6494</td>\n",
       "    </tr>\n",
       "    <tr>\n",
       "      <th>3</th>\n",
       "      <td>Adamas University</td>\n",
       "      <td>525</td>\n",
       "      <td>9269</td>\n",
       "    </tr>\n",
       "    <tr>\n",
       "      <th>4</th>\n",
       "      <td>Adesh University</td>\n",
       "      <td>702</td>\n",
       "      <td>10656</td>\n",
       "    </tr>\n",
       "  </tbody>\n",
       "</table>\n",
       "</div>"
      ],
      "text/plain": [
       "                              University_Name Country_Rank World_Rank\n",
       "0                        Abhilashi University          841      11988\n",
       "1  Acharya N.G. Ranga Agricultural University          262       7128\n",
       "2                Acharya Nagarjuna University          212       6494\n",
       "3                           Adamas University          525       9269\n",
       "4                            Adesh University          702      10656"
      ]
     },
     "execution_count": 22,
     "metadata": {},
     "output_type": "execute_result"
    }
   ],
   "source": [
    "data=pd.DataFrame({'University_Name':indias_clg_list,\n",
    "              'Country_Rank':country_rank_list,\n",
    "              'World_Rank':world_rank_list\n",
    "             })\n",
    "\n",
    "data.head()"
   ]
  },
  {
   "cell_type": "code",
   "execution_count": 23,
   "metadata": {},
   "outputs": [
    {
     "data": {
      "text/plain": [
       "(925, 3)"
      ]
     },
     "execution_count": 23,
     "metadata": {},
     "output_type": "execute_result"
    }
   ],
   "source": [
    "data.shape"
   ]
  },
  {
   "cell_type": "code",
   "execution_count": 24,
   "metadata": {},
   "outputs": [],
   "source": [
    "data.to_csv('Indian_University_Data.csv',index=False)"
   ]
  }
  
